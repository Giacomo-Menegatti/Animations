{
 "cells": [
  {
   "cell_type": "markdown",
   "metadata": {},
   "source": [
    "# Sum of results from N throws of a dice"
   ]
  },
  {
   "cell_type": "code",
   "execution_count": 9,
   "metadata": {},
   "outputs": [
    {
     "data": {
      "text/plain": [
       "{1.0000: 0.5000, 2.0000: 0.5000}"
      ]
     },
     "execution_count": 9,
     "metadata": {},
     "output_type": "execute_result"
    }
   ],
   "source": [
    "import numpy as np \n",
    "import matplotlib.pyplot as plt \n",
    "import numpy.random as npr \n",
    "%precision 4\n",
    "\n",
    "\n",
    "def create_fair_dice(faces):\n",
    "  dice = {} #dice (dict containing all possible results with the respective probabilities)\n",
    "  for i in np.linspace(1,faces, faces):\n",
    "    dice[i] = 1/faces\n",
    "  return dice\n",
    "\n",
    "dice = create_fair_dice(2)\n",
    "\n",
    "dice\n"
   ]
  },
  {
   "cell_type": "code",
   "execution_count": 10,
   "metadata": {},
   "outputs": [],
   "source": [
    "def sum_of_throws(n_throws, dice):\n",
    "  results = dice\n",
    "  for i in range(n_throws-1):\n",
    "    new_results = {}\n",
    "    for j in dice.keys():\n",
    "      for k in results.keys():\n",
    "        if not j+k in new_results.keys(): #If this result is not already present, add it and make it zero\n",
    "          new_results[j+k]=0      \n",
    "              \n",
    "        new_results[j+k] += dice[j]*results[k]  #Add to the probability the probability of such a throw\n",
    "    results = new_results\n",
    "\n",
    "  return results\n"
   ]
  },
  {
   "cell_type": "code",
   "execution_count": 11,
   "metadata": {},
   "outputs": [],
   "source": [
    "results = sum_of_throws(40, dice)\n"
   ]
  },
  {
   "cell_type": "code",
   "execution_count": 12,
   "metadata": {},
   "outputs": [
    {
     "data": {
      "text/plain": [
       "<StemContainer object of 3 artists>"
      ]
     },
     "execution_count": 12,
     "metadata": {},
     "output_type": "execute_result"
    },
    {
     "data": {
      "image/png": "[encoded data removed]",
      "text/plain": [
       "<Figure size 640x480 with 1 Axes>"
      ]
     },
     "metadata": {},
     "output_type": "display_data"
    }
   ],
   "source": [
    "plt.stem(results.keys(), results.values(), 'bo')\n"
   ]
  }
 ],
 "metadata": {
  "kernelspec": {
   "display_name": "Python 3",
   "language": "python",
   "name": "python3"
  },
  "language_info": {
   "codemirror_mode": {
    "name": "ipython",
    "version": 3
   },
   "file_extension": ".py",
   "mimetype": "text/x-python",
   "name": "python",
   "nbconvert_exporter": "python",
   "pygments_lexer": "ipython3",
   "version": "3.10.12"
  }
 },
 "nbformat": 4,
 "nbformat_minor": 2
}
