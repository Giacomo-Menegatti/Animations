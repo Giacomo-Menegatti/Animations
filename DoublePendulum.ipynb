{
 "cells": [
  {
   "cell_type": "markdown",
   "metadata": {},
   "source": [
    "# N pendulum problem\n",
    "This notebook contains a simple way to animate a double pendulum from the solution of the ODE"
   ]
  },
  {
   "cell_type": "code",
   "execution_count": 1,
   "metadata": {},
   "outputs": [],
   "source": [
    "#Libraries for solving the ODE and handling the data\n",
    "from scipy.integrate import solve_ivp\n",
    "import pandas as pd\n",
    "import numpy as np\n",
    "#Libraries for the rendering\n",
    "import matplotlib.pyplot as plt\n",
    "import matplotlib.animation as animation\n",
    "from IPython.display import display, clear_output, HTML"
   ]
  },
  {
   "cell_type": "markdown",
   "metadata": {},
   "source": [
    "## Utilities"
   ]
  },
  {
   "cell_type": "code",
   "execution_count": 2,
   "metadata": {},
   "outputs": [],
   "source": [
    "# Map to convert any angle to the range 0-2pi\n",
    "def map_to_2pi(alpha):\n",
    "  k = np.floor(alpha/(2*np.pi)) #Number of complete rotations\n",
    "  alpha = alpha-k*2*np.pi\n",
    "  return alpha\n",
    "\n",
    "# Plot the pendulum\n",
    "def plot_trajectory(data_frames, t_span=None, color='g'):\n",
    "  data_frames = (lambda x: x if type(x) is tuple else (x,))(data_frames)  #If the input is a single element make it a tuple, else, execute normally\n",
    "  fig, ax = plt.subplots()\n",
    "  max = []\n",
    "  for df in data_frames:\n",
    "    max.append(1.1*np.abs(df['y']).max()) #Find the maximum distance from the origin \n",
    "    \n",
    "  fig.suptitle('Double pendulum')\n",
    "      \n",
    "  max = np.array(max).max() \n",
    "  \n",
    "  ax.set_xlim(-max, max)\n",
    "  ax.set_ylim(-max, max)\n",
    "  ax.set_aspect('equal')\n",
    "  ax.grid()\n",
    "  ax.set_xlabel('x')\n",
    "  ax.set_ylabel('y')\n",
    "  if t_span != None:\n",
    "    ax.text(0.05,0.9, f't = {t_span[1]:.2f}', transform = ax.transAxes)\n",
    "  \n",
    "  for df in data_frames:\n",
    "    if t_span != None:\n",
    "      df = df[(df['t'] >= t_span[0]) & (df['t'] <= t_span[1])]\n",
    "    \n",
    "    ax.plot(df['x'], df['y'])\n",
    "    ax.plot([0, df.iloc[-1][ 'x']], [0, df.iloc[-1][ 'y']], 'r-o')\n",
    "  plt.show()"
   ]
  },
  {
   "cell_type": "markdown",
   "metadata": {},
   "source": [
    "### A more complex function to animate using blitting"
   ]
  },
  {
   "cell_type": "code",
   "execution_count": 3,
   "metadata": {},
   "outputs": [],
   "source": [
    "#Creation of the plot and the artists inside\n",
    "\n",
    "def create_plot(data_frames, color='g'):\n",
    "  fig, ax = plt.subplots()\n",
    "  max = []\n",
    "  for df in data_frames:\n",
    "    max.append(1.1*np.abs(df['y']).max()) #Find the maximum distance from the origin \n",
    "    \n",
    "  fig.suptitle('Double pendulum')      \n",
    "  max = np.array(max).max() \n",
    "  \n",
    "  ax.set_xlim(-max, max)\n",
    "  ax.set_ylim(-max, max)\n",
    "  ax.set_aspect('equal')\n",
    "  ax.grid(':')\n",
    "  ax.set_xlabel('x')\n",
    "  ax.set_ylabel('y')\n",
    "  time = ax.text(0.05,0.9,'', transform = ax.transAxes)\n",
    "  #NB: both traces and markers are memorized as an array of arrays containing the single element\n",
    "  traces = [ax.plot(0,0, linestyle = '-', alpha=0.5) for df in data_frames]\n",
    "  markers = [ax.plot(0,0, c = trace[0].get_color(), linestyle = ':', marker = 'o') for trace in traces]\n",
    "  plt.close('all')\n",
    "  return fig, [traces, markers, time]\n",
    "\n"
   ]
  },
  {
   "cell_type": "code",
   "execution_count": 4,
   "metadata": {},
   "outputs": [],
   "source": [
    "#Functions to plot, update the plot and animate it updating the artists inside\n",
    "\n",
    "#Plots the figure by updating the objects inside\n",
    "def plot_figure(data_frames, t_span=None):\n",
    "  data_frames = (lambda x: x if type(x) is tuple else (x,))(data_frames)  #If the input is a single element make it a tuple, else, execute normally\n",
    "  fig, artists = create_plot(data_frames)\n",
    "  traces, markers, time = artists[0], artists[1], artists[2]    \n",
    "  \n",
    "  # reduce the dataframes to the time limits \n",
    "  if t_span != None:  \n",
    "    time.set_text(f't = {t_span[1]:.2f}')\n",
    "    data_restricted = [df[(df['t'] >= t_span[0]) & (df['t'] <= t_span[1])] for df in data_frames]\n",
    "  else:\n",
    "    data_restricted = data_frames\n",
    "\n",
    "  #for all couples plot, df set the data of the plots\n",
    "  for trace, df in zip(traces, data_restricted): trace[0].set_data(df['x'], df['y']) \n",
    "  for marker, df in zip(markers, data_restricted): marker[0].set_data([0, df.iloc[-1][ 'x']], [0, df.iloc[-1][ 'y']])   \n",
    "  display(fig)\n",
    "\n",
    "#Realtime animation \n",
    "def animate_RT(data_frames, time_step = 0.05, tail=2.5, t_span=None):  \n",
    "  data_frames = (lambda x: x if type(x) is tuple else (x,))(data_frames)  \n",
    "  fig, artists = create_plot(data_frames)\n",
    "  \n",
    "  if t_span == None:\n",
    "    t_stop, t_start = data_frames[0].iloc[-1]['t'], data_frames[0].iloc[0]['t'] #Beginning and end of the animation\n",
    "  else:\n",
    "    t_start, t_stop = t_span[0], t_span[1]\n",
    "  t = t_start\n",
    "  \n",
    "  while t<=t_stop:\n",
    "    update(t, tail, data_frames, artists)\n",
    "    display(fig)\n",
    "    clear_output(wait=True) \n",
    "    t = t + time_step\n",
    "\n",
    "#Update the frame of animation\n",
    "def update(t, tail, data_frames, artists, t_step=None):\n",
    "  #In RT animation t is the final time, in funcAnimation is the frame of the image \n",
    "  # so I scale it back to the time\n",
    "  if t_step != None:\n",
    "    t = t*t_step\n",
    "  traces, markers, time = artists[0], artists[1], artists[2]    \n",
    "  time.set_text(f't = {t:.2f}')\n",
    "  data_restricted = [df[(df['t'] >= t-tail) & (df['t'] <= t)] for df in data_frames]  \n",
    "  for trace, df in zip(traces, data_restricted): trace[0].set_data(df['x'], df['y']) \n",
    "  for marker, df in zip(markers, data_restricted): marker[0].set_data([0, df.iloc[-1][ 'x']], [0, df.iloc[-1][ 'y']])   \n",
    "\n",
    "#HTML animation usin FuncAnimation\n",
    "def animate_HTML(data_frames, duration=5.0, tail = 2.5, fps=15, t_span=None):\n",
    "  data_frames = (lambda x: x if type(x) is tuple else (x,))(data_frames) \n",
    "  \n",
    "  if t_span == None:\n",
    "    t_stop, t_start = data_frames[0].iloc[-1]['t'], data_frames[0].iloc[0]['t'] #Beginning and end of the animation\n",
    "  else:\n",
    "    t_start, t_stop = t_span[0], t_span[1]\n",
    "    \n",
    "  fig, artists = create_plot(data_frames)\n",
    "  n_frames = round(duration*fps)  #Total number of frames\n",
    "  t_step = (t_stop-t_start)/n_frames  # Time step for frame\n",
    "  ani = animation.FuncAnimation(fig, update, n_frames, fargs = (tail, data_frames, artists, t_step), interval = 1000.0/fps, blit=False)\n",
    "  return ani"
   ]
  },
  {
   "cell_type": "markdown",
   "metadata": {},
   "source": [
    "## Lagrangian of the pendulum\n",
    "A n-masses pendulum has the first mass with position described by $ x_a = r_a \\sin(\\theta_a),  y_a = r_a \\cos(\\theta_a)$, velocity $ \\dot x_a = r_a \\cos(\\theta_a)\\dot \\theta_a,  \\dot y_a = - r_a \\sin(\\alpha_a)\\dot \\alpha_a$, kinetic energy $ E_K = \\frac{1}{2}m_ar_a^2\\dot \\theta_a^2 $  and potential energy $ U_g = m_agr_a \\cos \\theta_a $  \n",
    "A second mass is described by $x_b = r_b \\sin\\theta_b+x_a$, $y_b = r_b \\cos\\theta_b+y_a$, and so forth for all additional masses.  \n",
    "The Lagrangian is $ L = E_K - U_g $ \n",
    "\n",
    "$$ \\begin{bmatrix} \\dot \\alpha \\\\ \\dot \\beta \\end{bmatrix}^T \\frac{1}{2}\\begin{bmatrix} a^2(A+B) & abB \\cos(\\alpha-\\beta)  \\\\ abB \\cos(\\alpha-\\beta) & b^2B \\end{bmatrix} \\begin{bmatrix} \\dot \\alpha\\\\ \\dot \\beta \\end{bmatrix} -ga(A+B)\\cos \\alpha- gbB\\cos \\beta  \n",
    "$$\n",
    "with $ m_i = I$, $r_i = i$ \n",
    "The Euler-Lagrange equations are\n",
    "\n",
    "$$ \\begin{bmatrix} a^2(A+B) & abB \\cos(\\alpha-\\beta)  \\\\ abB \\cos(\\alpha-\\beta) & b^2B \\end{bmatrix}\n",
    "\\begin{bmatrix} \\ddot \\alpha\\\\ \\ddot \\beta \\end{bmatrix} \n",
    "- \\begin{bmatrix} 0 & abB \\sin (\\alpha-\\beta)  \\\\ abB \\sin(\\alpha-\\beta) & 0 \\end{bmatrix}\n",
    "\\begin{bmatrix} \\dot \\alpha^2 \\\\ \\dot \\beta^2 \\end{bmatrix} \n",
    "-\\begin{bmatrix} ga(A+B) \\sin \\alpha \\\\ gbB \\sin \\beta \\end{bmatrix} = 0\n",
    "$$"
   ]
  },
  {
   "cell_type": "markdown",
   "metadata": {},
   "source": [
    "The estension for N-masses has the i-th line given by\n",
    "$$ M_{ij}l_{ij}\\cos (\\theta_i-\\theta_j) \\ddot \\theta_j - M_{ij}l_{ij}\\sin (\\theta_i-\\theta_j) \\dot \\theta^2_j - g r_i M_{ii} \\sin \\theta_i$$\n",
    "where $ M_{ij} $ is the masses matrix given by $$ \\begin{bmatrix} A+B+C+... & B+C+... & C+... & ... \\\\ B+C+ ... & B+C+... & C+... & ...  \\\\ C+... & C+... & C+... & ... \\\\ ... & ... & ... & ... \\end{bmatrix} $$ or $ M_{ij}= \\sum_{k \\geq max(i,j)}m_k $, and $ l_{ij} $ is the lengths matrix $ l_{ij}= r_ir_j $"
   ]
  },
  {
   "cell_type": "markdown",
   "metadata": {},
   "source": []
  },
  {
   "cell_type": "code",
   "execution_count": 5,
   "metadata": {},
   "outputs": [],
   "source": [
    "# dy/dt = f(t,y), with y = (theta, dtheta/dt)\n",
    "\n",
    "def ODE(t, y, g, r):\n",
    "  return(y[1], g/r*np.sin(y[0]))\n",
    "\n",
    "g = 9.81\n",
    "\n",
    "def pendulum_df(y0, t_span, g=9.81, r=1.0, n_points=1000):  \n",
    "  \n",
    "  Y = solve_ivp(ODE, t_span=t_span, y0=y0 , method='RK45', args=(g,r), t_eval=np.linspace(t_span[0],t_span[1], n_points), rtol=1e-6)\n",
    "  pendulum_df = pd.DataFrame({'t':Y.t, 'theta': map_to_2pi(Y.y[0]), 'v_theta': Y.y[1]})\n",
    "  pendulum_df['K'] = 0.5*m*(r*pendulum_df['v_theta'])**2\n",
    "  pendulum_df['U'] = g*m*r*np.cos(pendulum_df['theta'])\n",
    "  pendulum_df['E'] = pendulum_df['K']+ pendulum_df['U']\n",
    "\n",
    "  pendulum_df['x'] = r*np.sin(pendulum_df['theta'])\n",
    "  pendulum_df['y'] = r*np.cos(pendulum_df['theta'])\n",
    "  return pendulum_df\n",
    "\n",
    "\n"
   ]
  }
 ],
 "metadata": {
  "kernelspec": {
   "display_name": "Python 3 (ipykernel)",
   "language": "python",
   "name": "python3"
  },
  "language_info": {
   "codemirror_mode": {
    "name": "ipython",
    "version": 3
   },
   "file_extension": ".py",
   "mimetype": "text/x-python",
   "name": "python",
   "nbconvert_exporter": "python",
   "pygments_lexer": "ipython3",
   "version": "3.10.12"
  }
 },
 "nbformat": 4,
 "nbformat_minor": 4
}
