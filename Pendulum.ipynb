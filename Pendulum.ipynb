{
 "cells": [
  {
   "cell_type": "markdown",
   "metadata": {},
   "source": [
    "# Double pendulum problem"
   ]
  },
  {
   "cell_type": "markdown",
   "metadata": {},
   "source": [
    "A double pendulum is described in the configuration space by the equations:\n"
   ]
  },
  {
   "cell_type": "code",
   "execution_count": 1,
   "metadata": {},
   "outputs": [],
   "source": [
    "from scipy.integrate import solve_ivp\n",
    "import pandas as pd\n",
    "import numpy as np\n",
    "#Libraries for the rendering\n",
    "import matplotlib.pyplot as plt\n",
    "import matplotlib.animation as animation\n",
    "from IPython.display import display, clear_output, HTML"
   ]
  },
  {
   "cell_type": "markdown",
   "metadata": {},
   "source": [
    "## Utilities"
   ]
  },
  {
   "cell_type": "code",
   "execution_count": 2,
   "metadata": {},
   "outputs": [],
   "source": [
    "# Map to convert any angle to the range 0-2pi\n",
    "def map_to_2pi(alpha):\n",
    "  k = np.floor(alpha/(2*np.pi)) #Number of complete rotations\n",
    "  alpha = alpha-k*2*np.pi\n",
    "  return alpha\n",
    "\n",
    "# Plot the pendulum\n",
    "def plot_trajectory(data_frames, t_span=None, color='g'):\n",
    "  data_frames = (lambda x: x if type(x) is tuple else (x,))(data_frames)  #If the input is a single element make it a tuple, else, execute normally\n",
    "  fig, ax = plt.subplots()\n",
    "  max = []\n",
    "  for df in data_frames:\n",
    "    max.append(1.1*np.abs(df['y']).max()) #Find the maximum distance from the origin \n",
    "    \n",
    "  fig.suptitle('Double pendulum')\n",
    "      \n",
    "  max = np.array(max).max() \n",
    "  \n",
    "  ax.set_xlim(-max, max)\n",
    "  ax.set_ylim(-max, max)\n",
    "  ax.set_aspect('equal')\n",
    "  ax.grid()\n",
    "  ax.set_xlabel('x')\n",
    "  ax.set_ylabel('y')\n",
    "  if t_span != None:\n",
    "    ax.text(0.05,0.9, f't = {t_span[1]:.2f}', transform = ax.transAxes)\n",
    "  \n",
    "  for df in data_frames:\n",
    "    if t_span != None:\n",
    "      df = df[(df['t'] >= t_span[0]) & (df['t'] <= t_span[1])]\n",
    "    \n",
    "    ax.plot(df['x'], df['y'])\n",
    "    ax.plot([0, df.iloc[-1][ 'x']], [0, df.iloc[-1][ 'y']], 'r-o')\n",
    "  plt.show()"
   ]
  },
  {
   "cell_type": "markdown",
   "metadata": {},
   "source": [
    "### A more complex function to animate using blitting"
   ]
  },
  {
   "cell_type": "code",
   "execution_count": 8,
   "metadata": {},
   "outputs": [],
   "source": [
    "def create_plot(data_frames, color='g'):\n",
    "  fig, ax = plt.subplots()\n",
    "  max = []\n",
    "  for df in data_frames:\n",
    "    max.append(1.1*np.abs(df['y']).max()) #Find the maximum distance from the origin \n",
    "    \n",
    "  fig.suptitle('Double pendulum')      \n",
    "  max = np.array(max).max() \n",
    "  \n",
    "  ax.set_xlim(-max, max)\n",
    "  ax.set_ylim(-max, max)\n",
    "  ax.set_aspect('equal')\n",
    "  ax.grid(':')\n",
    "  ax.set_xlabel('x')\n",
    "  ax.set_ylabel('y')\n",
    "  time = ax.text(0.05,0.9,'', transform = ax.transAxes)\n",
    "  #NB: both traces and markers are memorized as an array of arrays containing the single element\n",
    "  traces = [ax.plot(0,0, linestyle = '-', alpha=0.5) for df in data_frames]\n",
    "  print(traces)\n",
    "  markers = [ax.plot(0,0, c = trace[0].get_color(), linestyle = ':', marker = 'o') for trace in traces]\n",
    "  plt.close('all')\n",
    "  return fig, [traces, markers, time]\n",
    "\n",
    "#Plots the figure by updating the objects inside\n",
    "def plot_figure(data_frames, t_span=None):\n",
    "  data_frames = (lambda x: x if type(x) is tuple else (x,))(data_frames)  #If the input is a single element make it a tuple, else, execute normally\n",
    "  fig, artists = create_plot(data_frames)\n",
    "  traces, markers, time = artists[0], artists[1], artists[2]    \n",
    "  \n",
    "  # reduce the dataframes to the time limits \n",
    "  if t_span != None:  \n",
    "    time.set_text(f't = {t_span[1]:.2f}')\n",
    "    data_restricted = [df[(df['t'] >= t_span[0]) & (df['t'] <= t_span[1])] for df in data_frames]\n",
    "  else:\n",
    "    data_restricted = data_frames\n",
    "\n",
    "  #for all couples plot, df set the data of the plots\n",
    "  for trace, df in zip(traces, data_restricted): trace[0].set_data(df['x'], df['y']) \n",
    "  for marker, df in zip(markers, data_restricted): marker[0].set_data([0, df.iloc[-1][ 'x']], [0, df.iloc[-1][ 'y']])   \n",
    "  display(fig)\n",
    "\n",
    "#Realtime animation \n",
    "def animate_RT(data_frames, time_step = 0.05, tail=2.5, t_stop=None):\n",
    "  \n",
    "  data_frames = (lambda x: x if type(x) is tuple else (x,))(data_frames) \n",
    "  fig, artists = create_plot(data_frames)\n",
    "  if t_stop == None:\n",
    "    t_stop = data_frames[0].iloc[-1]['t']\n",
    "  t = 0\n",
    "  \n",
    "  while t<t_stop:\n",
    "    update(t, tail, data_frames, artists)\n",
    "    display(fig)\n",
    "    clear_output(wait=True) \n",
    "    t = t + time_step\n",
    "    \n",
    "def update(t, tail, data_frames, artists, t_step=None):\n",
    "  if t_step != None:\n",
    "    t = t*t_step\n",
    "  traces, markers, time = artists[0], artists[1], artists[2]   \n",
    "  \n",
    "  time.set_text(f't = {t:.2f}')\n",
    "  data_restricted = [df[(df['t'] >= t-tail) & (df['t'] <= t)] for df in data_frames]\n",
    "  \n",
    "  for trace, df in zip(traces, data_restricted): trace[0].set_data(df['x'], df['y']) \n",
    "  for marker, df in zip(markers, data_restricted): marker[0].set_data([0, df.iloc[-1][ 'x']], [0, df.iloc[-1][ 'y']])   \n",
    "    \n",
    "def animate_HTML(data_frames, duration=5.0, tail = 2.5, fps=10):\n",
    "  data_frames = (lambda x: x if type(x) is tuple else (x,))(data_frames) \n",
    "  fig, artists = create_plot(data_frames)\n",
    "  fps = 10\n",
    "  t_step = duration*fps\n",
    "  ani = animation.FuncAnimation(fig, update, round(duration*fps), fargs = (tail, data_frames, artists, t_step), interval = 1000.0/fps, blit=False)\n",
    "  return ani"
   ]
  },
  {
   "cell_type": "markdown",
   "metadata": {},
   "source": [
    "## Lagrangian of the pendulum"
   ]
  },
  {
   "cell_type": "code",
   "execution_count": 4,
   "metadata": {},
   "outputs": [
    {
     "data": {
      "text/plain": [
       "\"plot_trajectory(a, t_span=(0,0.3))\\nplt.plot(a['t'], a['theta'])\\nplt.plot(a['t'], a['v_theta'])\\na.head(4)\""
      ]
     },
     "execution_count": 4,
     "metadata": {},
     "output_type": "execute_result"
    }
   ],
   "source": [
    "# dy/dt = f(t,y), with y = (theta, dtheta/dt)\n",
    "\n",
    "def f(t, y, g, r):\n",
    "  return(y[1], g/r*np.sin(y[0]))\n",
    "\n",
    "g = 9.81\n",
    "r = 0.5\n",
    "m = 0.1\n",
    "\n",
    "def pendulum_df(y0, t_span, m, g, r, n_points=1000):  \n",
    "  \n",
    "  Y = solve_ivp(f, t_span=t_span, y0=y0 , method='RK45', args=(g,r), t_eval=np.linspace(t_span[0],t_span[1], n_points), rtol=1e-6)\n",
    "  pendulum_df = pd.DataFrame({'t':Y.t, 'theta': map_to_2pi(Y.y[0]), 'v_theta': Y.y[1]})\n",
    "  pendulum_df['K'] = 0.5*m*(r*pendulum_df['v_theta'])**2\n",
    "  pendulum_df['U'] = g*m*r*np.cos(pendulum_df['theta'])\n",
    "  pendulum_df['E'] = pendulum_df['K']+ pendulum_df['U']\n",
    "\n",
    "  pendulum_df['x'] = r*np.sin(pendulum_df['theta'])\n",
    "  pendulum_df['y'] = r*np.cos(pendulum_df['theta'])\n",
    "  return pendulum_df\n",
    "\n",
    "a = pendulum_df(y0=(2.5, 0.0), t_span=(0,5.0), m=1, g=9.81, r=0.23)\n",
    "b = pendulum_df(y0=(0.3,0.0), t_span=(0,5.0), m=1, g=9.81, r=0.1)\n",
    "\n",
    "'''plot_trajectory(a, t_span=(0,0.3))\n",
    "plt.plot(a['t'], a['theta'])\n",
    "plt.plot(a['t'], a['v_theta'])\n",
    "a.head(4)'''"
   ]
  },
  {
   "cell_type": "code",
   "execution_count": 5,
   "metadata": {},
   "outputs": [],
   "source": [
    "#plot_figure(a, t_span=(0,2.1))"
   ]
  },
  {
   "cell_type": "code",
   "execution_count": 11,
   "metadata": {},
   "outputs": [
    {
     "data": {
      "image/png": "[encoded data removed]",
      "text/plain": [
       "<Figure size 640x480 with 1 Axes>"
      ]
     },
     "metadata": {},
     "output_type": "display_data"
    }
   ],
   "source": [
    "animate_RT((a,b), tail=0.4)"
   ]
  },
  {
   "cell_type": "code",
   "execution_count": 9,
   "metadata": {},
   "outputs": [
    {
     "name": "stdout",
     "output_type": "stream",
     "text": [
      "[[<matplotlib.lines.Line2D object at 0x7fbc28f62a10>], [<matplotlib.lines.Line2D object at 0x7fbc2961ffa0>]]\n"
     ]
    },
    {
     "ename": "IndexError",
     "evalue": "single positional indexer is out-of-bounds",
     "output_type": "error",
     "traceback": [
      "\u001b[0;31m---------------------------------------------------------------------------\u001b[0m",
      "\u001b[0;31mIndexError\u001b[0m                                Traceback (most recent call last)",
      "\u001b[1;32m/home/menegattig/sketchbook/python_notebooks/Animations/Pendulum.ipynb Cell 12\u001b[0m line \u001b[0;36m3\n\u001b[1;32m      <a href='vscode-notebook-cell:/home/menegattig/sketchbook/python_notebooks/Animations/Pendulum.ipynb#X15sZmlsZQ%3D%3D?line=0'>1</a>\u001b[0m ani \u001b[39m=\u001b[39m animate_HTML((a,b), duration\u001b[39m=\u001b[39m\u001b[39m5.0\u001b[39m, tail\u001b[39m=\u001b[39m\u001b[39m2.5\u001b[39m)\n\u001b[1;32m      <a href='vscode-notebook-cell:/home/menegattig/sketchbook/python_notebooks/Animations/Pendulum.ipynb#X15sZmlsZQ%3D%3D?line=1'>2</a>\u001b[0m \u001b[39m#HTML(ani.to_jshtml())\u001b[39;00m\n\u001b[0;32m----> <a href='vscode-notebook-cell:/home/menegattig/sketchbook/python_notebooks/Animations/Pendulum.ipynb#X15sZmlsZQ%3D%3D?line=2'>3</a>\u001b[0m HTML(ani\u001b[39m.\u001b[39;49mto_html5_video())\n",
      "File \u001b[0;32m~/.local/lib/python3.10/site-packages/matplotlib/animation.py:1288\u001b[0m, in \u001b[0;36mAnimation.to_html5_video\u001b[0;34m(self, embed_limit)\u001b[0m\n\u001b[1;32m   1284\u001b[0m Writer \u001b[39m=\u001b[39m writers[mpl\u001b[39m.\u001b[39mrcParams[\u001b[39m'\u001b[39m\u001b[39manimation.writer\u001b[39m\u001b[39m'\u001b[39m]]\n\u001b[1;32m   1285\u001b[0m writer \u001b[39m=\u001b[39m Writer(codec\u001b[39m=\u001b[39m\u001b[39m'\u001b[39m\u001b[39mh264\u001b[39m\u001b[39m'\u001b[39m,\n\u001b[1;32m   1286\u001b[0m                 bitrate\u001b[39m=\u001b[39mmpl\u001b[39m.\u001b[39mrcParams[\u001b[39m'\u001b[39m\u001b[39manimation.bitrate\u001b[39m\u001b[39m'\u001b[39m],\n\u001b[1;32m   1287\u001b[0m                 fps\u001b[39m=\u001b[39m\u001b[39m1000.\u001b[39m \u001b[39m/\u001b[39m \u001b[39mself\u001b[39m\u001b[39m.\u001b[39m_interval)\n\u001b[0;32m-> 1288\u001b[0m \u001b[39mself\u001b[39;49m\u001b[39m.\u001b[39;49msave(\u001b[39mstr\u001b[39;49m(path), writer\u001b[39m=\u001b[39;49mwriter)\n\u001b[1;32m   1289\u001b[0m \u001b[39m# Now open and base64 encode.\u001b[39;00m\n\u001b[1;32m   1290\u001b[0m vid64 \u001b[39m=\u001b[39m base64\u001b[39m.\u001b[39mencodebytes(path\u001b[39m.\u001b[39mread_bytes())\n",
      "File \u001b[0;32m~/.local/lib/python3.10/site-packages/matplotlib/animation.py:1103\u001b[0m, in \u001b[0;36mAnimation.save\u001b[0;34m(self, filename, writer, fps, dpi, codec, bitrate, extra_args, metadata, extra_anim, savefig_kwargs, progress_callback)\u001b[0m\n\u001b[1;32m   1100\u001b[0m \u001b[39mfor\u001b[39;00m data \u001b[39min\u001b[39;00m \u001b[39mzip\u001b[39m(\u001b[39m*\u001b[39m[a\u001b[39m.\u001b[39mnew_saved_frame_seq() \u001b[39mfor\u001b[39;00m a \u001b[39min\u001b[39;00m all_anim]):\n\u001b[1;32m   1101\u001b[0m     \u001b[39mfor\u001b[39;00m anim, d \u001b[39min\u001b[39;00m \u001b[39mzip\u001b[39m(all_anim, data):\n\u001b[1;32m   1102\u001b[0m         \u001b[39m# TODO: See if turning off blit is really necessary\u001b[39;00m\n\u001b[0;32m-> 1103\u001b[0m         anim\u001b[39m.\u001b[39;49m_draw_next_frame(d, blit\u001b[39m=\u001b[39;49m\u001b[39mFalse\u001b[39;49;00m)\n\u001b[1;32m   1104\u001b[0m         \u001b[39mif\u001b[39;00m progress_callback \u001b[39mis\u001b[39;00m \u001b[39mnot\u001b[39;00m \u001b[39mNone\u001b[39;00m:\n\u001b[1;32m   1105\u001b[0m             progress_callback(frame_number, total_frames)\n",
      "File \u001b[0;32m~/.local/lib/python3.10/site-packages/matplotlib/animation.py:1138\u001b[0m, in \u001b[0;36mAnimation._draw_next_frame\u001b[0;34m(self, framedata, blit)\u001b[0m\n\u001b[1;32m   1134\u001b[0m \u001b[39mdef\u001b[39;00m \u001b[39m_draw_next_frame\u001b[39m(\u001b[39mself\u001b[39m, framedata, blit):\n\u001b[1;32m   1135\u001b[0m     \u001b[39m# Breaks down the drawing of the next frame into steps of pre- and\u001b[39;00m\n\u001b[1;32m   1136\u001b[0m     \u001b[39m# post- draw, as well as the drawing of the frame itself.\u001b[39;00m\n\u001b[1;32m   1137\u001b[0m     \u001b[39mself\u001b[39m\u001b[39m.\u001b[39m_pre_draw(framedata, blit)\n\u001b[0;32m-> 1138\u001b[0m     \u001b[39mself\u001b[39;49m\u001b[39m.\u001b[39;49m_draw_frame(framedata)\n\u001b[1;32m   1139\u001b[0m     \u001b[39mself\u001b[39m\u001b[39m.\u001b[39m_post_draw(framedata, blit)\n",
      "File \u001b[0;32m~/.local/lib/python3.10/site-packages/matplotlib/animation.py:1767\u001b[0m, in \u001b[0;36mFuncAnimation._draw_frame\u001b[0;34m(self, framedata)\u001b[0m\n\u001b[1;32m   1763\u001b[0m     \u001b[39mself\u001b[39m\u001b[39m.\u001b[39m_save_seq \u001b[39m=\u001b[39m \u001b[39mself\u001b[39m\u001b[39m.\u001b[39m_save_seq[\u001b[39m-\u001b[39m\u001b[39mself\u001b[39m\u001b[39m.\u001b[39m_save_count:]\n\u001b[1;32m   1765\u001b[0m \u001b[39m# Call the func with framedata and args. If blitting is desired,\u001b[39;00m\n\u001b[1;32m   1766\u001b[0m \u001b[39m# func needs to return a sequence of any artists that were modified.\u001b[39;00m\n\u001b[0;32m-> 1767\u001b[0m \u001b[39mself\u001b[39m\u001b[39m.\u001b[39m_drawn_artists \u001b[39m=\u001b[39m \u001b[39mself\u001b[39;49m\u001b[39m.\u001b[39;49m_func(framedata, \u001b[39m*\u001b[39;49m\u001b[39mself\u001b[39;49m\u001b[39m.\u001b[39;49m_args)\n\u001b[1;32m   1769\u001b[0m \u001b[39mif\u001b[39;00m \u001b[39mself\u001b[39m\u001b[39m.\u001b[39m_blit:\n\u001b[1;32m   1771\u001b[0m     err \u001b[39m=\u001b[39m \u001b[39mRuntimeError\u001b[39;00m(\u001b[39m'\u001b[39m\u001b[39mThe animation function must return a sequence \u001b[39m\u001b[39m'\u001b[39m\n\u001b[1;32m   1772\u001b[0m                        \u001b[39m'\u001b[39m\u001b[39mof Artist objects.\u001b[39m\u001b[39m'\u001b[39m)\n",
      "\u001b[1;32m/home/menegattig/sketchbook/python_notebooks/Animations/Pendulum.ipynb Cell 12\u001b[0m line \u001b[0;36m6\n\u001b[1;32m     <a href='vscode-notebook-cell:/home/menegattig/sketchbook/python_notebooks/Animations/Pendulum.ipynb#X15sZmlsZQ%3D%3D?line=62'>63</a>\u001b[0m data_restricted \u001b[39m=\u001b[39m [df[(df[\u001b[39m'\u001b[39m\u001b[39mt\u001b[39m\u001b[39m'\u001b[39m] \u001b[39m>\u001b[39m\u001b[39m=\u001b[39m t\u001b[39m-\u001b[39mtail) \u001b[39m&\u001b[39m (df[\u001b[39m'\u001b[39m\u001b[39mt\u001b[39m\u001b[39m'\u001b[39m] \u001b[39m<\u001b[39m\u001b[39m=\u001b[39m t)] \u001b[39mfor\u001b[39;00m df \u001b[39min\u001b[39;00m data_frames]\n\u001b[1;32m     <a href='vscode-notebook-cell:/home/menegattig/sketchbook/python_notebooks/Animations/Pendulum.ipynb#X15sZmlsZQ%3D%3D?line=64'>65</a>\u001b[0m \u001b[39mfor\u001b[39;00m trace, df \u001b[39min\u001b[39;00m \u001b[39mzip\u001b[39m(traces, data_restricted): trace[\u001b[39m0\u001b[39m]\u001b[39m.\u001b[39mset_data(df[\u001b[39m'\u001b[39m\u001b[39mx\u001b[39m\u001b[39m'\u001b[39m], df[\u001b[39m'\u001b[39m\u001b[39my\u001b[39m\u001b[39m'\u001b[39m]) \n\u001b[0;32m---> <a href='vscode-notebook-cell:/home/menegattig/sketchbook/python_notebooks/Animations/Pendulum.ipynb#X15sZmlsZQ%3D%3D?line=65'>66</a>\u001b[0m \u001b[39mfor\u001b[39;00m marker, df \u001b[39min\u001b[39;00m \u001b[39mzip\u001b[39m(markers, data_restricted): marker[\u001b[39m0\u001b[39m]\u001b[39m.\u001b[39mset_data([\u001b[39m0\u001b[39m, df\u001b[39m.\u001b[39;49miloc[\u001b[39m-\u001b[39;49m\u001b[39m1\u001b[39;49m][ \u001b[39m'\u001b[39m\u001b[39mx\u001b[39m\u001b[39m'\u001b[39m]], [\u001b[39m0\u001b[39m, df\u001b[39m.\u001b[39miloc[\u001b[39m-\u001b[39m\u001b[39m1\u001b[39m][ \u001b[39m'\u001b[39m\u001b[39my\u001b[39m\u001b[39m'\u001b[39m]])\n",
      "File \u001b[0;32m~/.local/lib/python3.10/site-packages/pandas/core/indexing.py:1103\u001b[0m, in \u001b[0;36m_LocationIndexer.__getitem__\u001b[0;34m(self, key)\u001b[0m\n\u001b[1;32m   1100\u001b[0m axis \u001b[39m=\u001b[39m \u001b[39mself\u001b[39m\u001b[39m.\u001b[39maxis \u001b[39mor\u001b[39;00m \u001b[39m0\u001b[39m\n\u001b[1;32m   1102\u001b[0m maybe_callable \u001b[39m=\u001b[39m com\u001b[39m.\u001b[39mapply_if_callable(key, \u001b[39mself\u001b[39m\u001b[39m.\u001b[39mobj)\n\u001b[0;32m-> 1103\u001b[0m \u001b[39mreturn\u001b[39;00m \u001b[39mself\u001b[39;49m\u001b[39m.\u001b[39;49m_getitem_axis(maybe_callable, axis\u001b[39m=\u001b[39;49maxis)\n",
      "File \u001b[0;32m~/.local/lib/python3.10/site-packages/pandas/core/indexing.py:1656\u001b[0m, in \u001b[0;36m_iLocIndexer._getitem_axis\u001b[0;34m(self, key, axis)\u001b[0m\n\u001b[1;32m   1653\u001b[0m     \u001b[39mraise\u001b[39;00m \u001b[39mTypeError\u001b[39;00m(\u001b[39m\"\u001b[39m\u001b[39mCannot index by location index with a non-integer key\u001b[39m\u001b[39m\"\u001b[39m)\n\u001b[1;32m   1655\u001b[0m \u001b[39m# validate the location\u001b[39;00m\n\u001b[0;32m-> 1656\u001b[0m \u001b[39mself\u001b[39;49m\u001b[39m.\u001b[39;49m_validate_integer(key, axis)\n\u001b[1;32m   1658\u001b[0m \u001b[39mreturn\u001b[39;00m \u001b[39mself\u001b[39m\u001b[39m.\u001b[39mobj\u001b[39m.\u001b[39m_ixs(key, axis\u001b[39m=\u001b[39maxis)\n",
      "File \u001b[0;32m~/.local/lib/python3.10/site-packages/pandas/core/indexing.py:1589\u001b[0m, in \u001b[0;36m_iLocIndexer._validate_integer\u001b[0;34m(self, key, axis)\u001b[0m\n\u001b[1;32m   1587\u001b[0m len_axis \u001b[39m=\u001b[39m \u001b[39mlen\u001b[39m(\u001b[39mself\u001b[39m\u001b[39m.\u001b[39mobj\u001b[39m.\u001b[39m_get_axis(axis))\n\u001b[1;32m   1588\u001b[0m \u001b[39mif\u001b[39;00m key \u001b[39m>\u001b[39m\u001b[39m=\u001b[39m len_axis \u001b[39mor\u001b[39;00m key \u001b[39m<\u001b[39m \u001b[39m-\u001b[39mlen_axis:\n\u001b[0;32m-> 1589\u001b[0m     \u001b[39mraise\u001b[39;00m \u001b[39mIndexError\u001b[39;00m(\u001b[39m\"\u001b[39m\u001b[39msingle positional indexer is out-of-bounds\u001b[39m\u001b[39m\"\u001b[39m)\n",
      "\u001b[0;31mIndexError\u001b[0m: single positional indexer is out-of-bounds"
     ]
    }
   ],
   "source": [
    "ani = animate_HTML((a,b), duration=5.0, tail=2.5)\n",
    "#HTML(ani.to_jshtml())\n",
    "HTML(ani.to_html5_video())"
   ]
  }
 ],
 "metadata": {
  "kernelspec": {
   "display_name": "Python 3",
   "language": "python",
   "name": "python3"
  },
  "language_info": {
   "codemirror_mode": {
    "name": "ipython",
    "version": 3
   },
   "file_extension": ".py",
   "mimetype": "text/x-python",
   "name": "python",
   "nbconvert_exporter": "python",
   "pygments_lexer": "ipython3",
   "version": "3.10.12"
  }
 },
 "nbformat": 4,
 "nbformat_minor": 2
}
