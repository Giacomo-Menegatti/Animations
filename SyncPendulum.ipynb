{
 "cells": [
  {
   "cell_type": "markdown",
   "metadata": {},
   "source": [
    "# N Pendulum on a mover\n",
    "This notebook contains a simple way to animate N pendulums on a moving mass"
   ]
  },
  {
   "cell_type": "code",
   "execution_count": 25,
   "metadata": {},
   "outputs": [],
   "source": [
    "#Libraries for solving the ODE and handling the data\n",
    "from scipy.integrate import solve_ivp\n",
    "import pandas as pd\n",
    "import numpy as np\n",
    "#Libraries for the rendering\n",
    "import matplotlib.pyplot as plt\n",
    "import matplotlib.animation as animation\n",
    "from IPython.display import display, clear_output, HTML"
   ]
  },
  {
   "cell_type": "markdown",
   "metadata": {},
   "source": [
    "## Utilities"
   ]
  },
  {
   "cell_type": "code",
   "execution_count": 26,
   "metadata": {},
   "outputs": [],
   "source": [
    "# Map to convert any angle to the range 0-2pi\n",
    "def map_to_2pi(alpha):\n",
    "  k = np.floor(alpha/(2*np.pi)) #Number of complete rotations\n",
    "  alpha = alpha-k*2*np.pi\n",
    "  return alpha\n",
    "\n",
    "# Plot the pendulum\n",
    "def plot_trajectory(data_frames, t_span=None, color='g'):\n",
    "  data_frames = (lambda x: x if type(x) is tuple else (x,))(data_frames)  #If the input is a single element make it a tuple, else, execute normally\n",
    "  fig, ax = plt.subplots()\n",
    "  max = []\n",
    "  for df in data_frames:\n",
    "    max.append(1.1*np.abs(df['y']).max()) #Find the maximum distance from the origin \n",
    "    \n",
    "  fig.suptitle('Double pendulum')\n",
    "      \n",
    "  max = np.array(max).max() \n",
    "  \n",
    "  ax.set_xlim(-max, max)\n",
    "  ax.set_ylim(-max, max)\n",
    "  ax.set_aspect('equal')\n",
    "  ax.grid()\n",
    "  ax.set_xlabel('x')\n",
    "  ax.set_ylabel('y')\n",
    "  if t_span != None:\n",
    "    ax.text(0.05,0.9, f't = {t_span[1]:.2f}', transform = ax.transAxes)\n",
    "  \n",
    "  for df in data_frames:\n",
    "    if t_span != None:\n",
    "      df = df[(df['t'] >= t_span[0]) & (df['t'] <= t_span[1])]\n",
    "    \n",
    "    ax.plot(df['x'], df['y'])\n",
    "    ax.plot([0, df.iloc[-1][ 'x']], [0, df.iloc[-1][ 'y']], 'r-o')\n",
    "  plt.show()"
   ]
  },
  {
   "cell_type": "markdown",
   "metadata": {},
   "source": [
    "### A more complex function to animate using blitting"
   ]
  },
  {
   "cell_type": "code",
   "execution_count": 27,
   "metadata": {},
   "outputs": [],
   "source": [
    "#Creation of the plot and the artists inside\n",
    "\n",
    "def create_plot(data_frames, color='g'):\n",
    "  fig, ax = plt.subplots()\n",
    "  max = []\n",
    "  for df in data_frames:\n",
    "    max.append(1.1*np.abs(df['y']).max()) #Find the maximum distance from the origin \n",
    "    \n",
    "  fig.suptitle('Double pendulum')      \n",
    "  max = np.array(max).max() \n",
    "  \n",
    "  ax.set_xlim(-max, max)\n",
    "  ax.set_ylim(-max, max)\n",
    "  ax.set_aspect('equal')\n",
    "  ax.grid(':')\n",
    "  ax.set_xlabel('x')\n",
    "  ax.set_ylabel('y')\n",
    "  time = ax.text(0.05,0.9,'', transform = ax.transAxes)\n",
    "  #NB: both traces and markers are memorized as an array of arrays containing the single element\n",
    "  traces = [ax.plot(0,0, linestyle = '-', alpha=0.5) for df in data_frames]\n",
    "  markers = [ax.plot(0,0, c = trace[0].get_color(), linestyle = ':', marker = 'o') for trace in traces]\n",
    "  plt.close('all')\n",
    "  return fig, [traces, markers, time]\n",
    "\n"
   ]
  },
  {
   "cell_type": "code",
   "execution_count": 28,
   "metadata": {},
   "outputs": [],
   "source": [
    "#Functions to plot, update the plot and animate it updating the artists inside\n",
    "\n",
    "#Plots the figure by updating the objects inside\n",
    "def plot_figure(data_frames, t_span=None):\n",
    "  data_frames = (lambda x: x if type(x) is tuple else (x,))(data_frames)  #If the input is a single element make it a tuple, else, execute normally\n",
    "  fig, artists = create_plot(data_frames)\n",
    "  traces, markers, time = artists[0], artists[1], artists[2]    \n",
    "  \n",
    "  # reduce the dataframes to the time limits \n",
    "  if t_span != None:  \n",
    "    time.set_text(f't = {t_span[1]:.2f}')\n",
    "    data_restricted = [df[(df['t'] >= t_span[0]) & (df['t'] <= t_span[1])] for df in data_frames]\n",
    "  else:\n",
    "    data_restricted = data_frames\n",
    "\n",
    "  #for all couples plot, df set the data of the plots\n",
    "  for trace, df in zip(traces, data_restricted): trace[0].set_data(df['x'], df['y']) \n",
    "  for marker, df in zip(markers, data_restricted): marker[0].set_data([0, df.iloc[-1][ 'x']], [0, df.iloc[-1][ 'y']])   \n",
    "  display(fig)\n",
    "\n",
    "#Realtime animation \n",
    "def animate_RT(data_frames, time_step = 0.05, tail=2.5, t_span=None):  \n",
    "  data_frames = (lambda x: x if type(x) is tuple else (x,))(data_frames)  \n",
    "  fig, artists = create_plot(data_frames)\n",
    "  \n",
    "  if t_span == None:\n",
    "    t_stop, t_start = data_frames[0].iloc[-1]['t'], data_frames[0].iloc[0]['t'] #Beginning and end of the animation\n",
    "  else:\n",
    "    t_start, t_stop = t_span[0], t_span[1]\n",
    "  t = t_start\n",
    "  \n",
    "  while t<=t_stop:\n",
    "    update(t, tail, data_frames, artists)\n",
    "    display(fig)\n",
    "    clear_output(wait=True) \n",
    "    t = t + time_step\n",
    "\n",
    "#Update the frame of animation\n",
    "def update(t, tail, data_frames, artists, t_step=None):\n",
    "  #In RT animation t is the final time, in funcAnimation is the frame of the image \n",
    "  # so I scale it back to the time\n",
    "  if t_step != None:\n",
    "    t = t*t_step\n",
    "  traces, markers, time = artists[0], artists[1], artists[2]    \n",
    "  time.set_text(f't = {t:.2f}')\n",
    "  data_restricted = [df[(df['t'] >= t-tail) & (df['t'] <= t)] for df in data_frames]  \n",
    "  for trace, df in zip(traces, data_restricted): trace[0].set_data(df['x'], df['y']) \n",
    "  for marker, df in zip(markers, data_restricted): marker[0].set_data([0, df.iloc[-1][ 'x']], [0, df.iloc[-1][ 'y']])   \n",
    "\n",
    "#HTML animation usin FuncAnimation\n",
    "def animate_HTML(data_frames, duration=5.0, tail = 2.5, fps=15, t_span=None):\n",
    "  data_frames = (lambda x: x if type(x) is tuple else (x,))(data_frames) \n",
    "  \n",
    "  if t_span == None:\n",
    "    t_stop, t_start = data_frames[0].iloc[-1]['t'], data_frames[0].iloc[0]['t'] #Beginning and end of the animation\n",
    "  else:\n",
    "    t_start, t_stop = t_span[0], t_span[1]\n",
    "    \n",
    "  fig, artists = create_plot(data_frames)\n",
    "  n_frames = round(duration*fps)  #Total number of frames\n",
    "  t_step = (t_stop-t_start)/n_frames  # Time step for frame\n",
    "  ani = animation.FuncAnimation(fig, update, n_frames, fargs = (tail, data_frames, artists, t_step), interval = 1000.0/fps, blit=False)\n",
    "  return ani"
   ]
  },
  {
   "cell_type": "markdown",
   "metadata": {},
   "source": [
    "## Lagrangian of the pendulum\n",
    "The simplest case of mover and pendulum has the mover described by its position $ x $, while the pendulum is described by $ x_P = x + r \\sin \\theta $, $ y_P = r \\cos \\theta $. The kinetic energy $ E_k = \\frac{1}{2}M\\dot x^2 + \\frac{1}{2}mr^2 \\dot x^2 + mr \\dot x \\dot \\theta \\cos \\theta$ and potential $ U=mgr \\cos \\theta $. \n",
    "The Eulero-Lagrange equations are \n",
    "$$ \\begin{pmatrix}  M+m & mr \\cos \\theta\\\\ mr \\cos \\theta & mr^2 \\end{pmatrix}  \\begin{pmatrix} \\ddot x \\\\ \\ddot \\theta \\end{pmatrix} - \\begin{pmatrix}  mr \\dot \\theta \\sin \\theta \\\\ mgr \\sin \\theta \\end{pmatrix} = 0 $$  \n",
    " \n",
    "### N-pendulums case\n",
    "\n",
    "\n",
    "The version with N pendulums with masses A,B,... , angles $ \\alpha $, $ \\beta $, .., and lenghts a,b,... gives the matrix\n",
    "$$ \\begin{pmatrix}  M+A+B+... & Aa \\cos \\alpha & Bb \\cos \\beta & ... \\\\ Aa\\cos \\alpha & Aa^2 & 0 & ... \\\\ Bb \\cos \\beta & 0 & Bb^2 & ... \\\\ ... & ... & ... & ... \\end{pmatrix}  \\begin{pmatrix} \\ddot x \\\\ \\ddot \\alpha \\\\ \\ddot \\beta \\\\ ... \\end{pmatrix} - \\begin{pmatrix}  Aa \\dot \\alpha \\sin \\alpha + Bb \\dot \\beta \\sin \\beta + ... \\\\ gAa \\sin \\alpha \\\\ gBb \\sin \\beta \\\\ ... \\end{pmatrix} = 0 $$ "
   ]
  },
  {
   "cell_type": "code",
   "execution_count": 33,
   "metadata": {},
   "outputs": [],
   "source": [
    "# dy/dt = f(t,y), with y = (x, alpha, dx, dalpha)\n",
    "\n",
    "def ODE(t, y, M, A, a, g):\n",
    "  x, alpha, d_x, d_alpha = y[0], y[1], y[2], y[3]\n",
    "  #Staring the system of equations to solve for the accelerations\n",
    "  MA = np.array([[M+A, A*a*np.cos(alpha)], [A*a*np.cos(alpha), A*a**2]])\n",
    "  b = np.array([A*a*d_alpha*np.sin(alpha), g*A*a*np.sin(alpha)])\n",
    "  dd = np.linalg.solve(MA,b)\n",
    "  return (d_x, d_alpha, dd[0], dd[1])\n",
    "\n",
    "\n",
    "def system_df(y0, t_span, g=9.81, M = 1.0, A = 1.0, a = 1.0, n_points=2000):  \n",
    "  \n",
    "  Y = solve_ivp(ODE, t_span=t_span, y0=y0 , method='RK45', args=(M,A, a, g), t_eval=np.linspace(t_span[0],t_span[1], n_points), rtol=1e-6)\n",
    "  system_df = pd.DataFrame({'t':Y.t, 'x': Y.y[0] , 'alpha': map_to_2pi(Y.y[1]), 'v_x': Y.y[2], 'v_alpha': Y.y[3]})\n",
    "  system_df['xp'] = system_df['x'] + a*np.sin(system_df['alpha'])\n",
    "  system_df['yp'] = a*np.cos(system_df['alpha'])\n",
    "  return system_df\n",
    "\n",
    "\n",
    "a = system_df(y0=(0.0, 0.8*np.pi, 0.0, 0.0), t_span=(0, 25), g=9.81, A=1.0, M=10.0, a=2.0)\n"
   ]
  },
  {
   "cell_type": "code",
   "execution_count": 34,
   "metadata": {},
   "outputs": [
    {
     "data": {
      "text/plain": [
       "<matplotlib.legend.Legend at 0x7f54ecaed6c0>"
      ]
     },
     "execution_count": 34,
     "metadata": {},
     "output_type": "execute_result"
    },
    {
     "data": {
      "image/png": "[encoded data removed]",
      "text/plain": [
       "<Figure size 640x480 with 1 Axes>"
      ]
     },
     "metadata": {},
     "output_type": "display_data"
    }
   ],
   "source": [
    "fig, ax = plt.subplots()\n",
    "ax.set_aspect('equal')\n",
    "ax.grid()\n",
    "ax.plot(a['t'], a['x'], label ='x')\n",
    "ax.plot(a['t'], a['alpha'], label =r'$\\alpha$')\n",
    "ax.legend()\n"
   ]
  }
 ],
 "metadata": {
  "kernelspec": {
   "display_name": "Python 3",
   "language": "python",
   "name": "python3"
  },
  "language_info": {
   "codemirror_mode": {
    "name": "ipython",
    "version": 3
   },
   "file_extension": ".py",
   "mimetype": "text/x-python",
   "name": "python",
   "nbconvert_exporter": "python",
   "pygments_lexer": "ipython3",
   "version": "3.10.12"
  }
 },
 "nbformat": 4,
 "nbformat_minor": 2
}
